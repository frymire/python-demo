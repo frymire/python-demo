{
 "cells": [
  {
   "cell_type": "code",
   "execution_count": 1,
   "id": "initial_id",
   "metadata": {
    "collapsed": true,
    "ExecuteTime": {
     "end_time": "2023-12-14T20:33:46.740753237Z",
     "start_time": "2023-12-14T20:33:46.708402513Z"
    }
   },
   "outputs": [
    {
     "name": "stdout",
     "output_type": "stream",
     "text": [
      "Hello from Jupyter!\n"
     ]
    }
   ],
   "source": [
    "print(\"Hello from Jupyter!\")"
   ]
  },
  {
   "cell_type": "markdown",
   "source": [
    "The Pythagorean equation is $x^2 + y^2 = z^2 $.\n",
    "\n",
    "Here it is again, but in display mode...$$x^2 + y^2 = z^2$$\n",
    "\n",
    "Here it is again, more verbosely...\n",
    "\\begin{equation}\n",
    "x^2 + y^2 = z^2\n",
    "\\end{equation}\n",
    "What is 2 + 2?"
   ],
   "metadata": {
    "collapsed": false
   },
   "id": "2262d46d30e93dd0"
  },
  {
   "cell_type": "code",
   "execution_count": 2,
   "outputs": [
    {
     "data": {
      "text/plain": "4"
     },
     "execution_count": 2,
     "metadata": {},
     "output_type": "execute_result"
    }
   ],
   "source": [
    "2+2"
   ],
   "metadata": {
    "collapsed": false,
    "ExecuteTime": {
     "end_time": "2023-12-14T20:33:46.751238567Z",
     "start_time": "2023-12-14T20:33:46.746898822Z"
    }
   },
   "id": "ec3e210a9447190"
  }
 ],
 "metadata": {
  "kernelspec": {
   "display_name": "Python 3",
   "language": "python",
   "name": "python3"
  },
  "language_info": {
   "codemirror_mode": {
    "name": "ipython",
    "version": 2
   },
   "file_extension": ".py",
   "mimetype": "text/x-python",
   "name": "python",
   "nbconvert_exporter": "python",
   "pygments_lexer": "ipython2",
   "version": "2.7.6"
  }
 },
 "nbformat": 4,
 "nbformat_minor": 5
}
